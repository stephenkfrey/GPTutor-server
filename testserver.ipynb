{
 "cells": [
  {
   "cell_type": "code",
   "execution_count": 4,
   "metadata": {},
   "outputs": [],
   "source": [
    "# URL = \"http://127.0.0.1:5000/test\"\n",
    "\n"
   ]
  },
  {
   "cell_type": "code",
   "execution_count": null,
   "metadata": {},
   "outputs": [],
   "source": [
    "import requests"
   ]
  },
  {
   "cell_type": "code",
   "execution_count": 6,
   "metadata": {},
   "outputs": [
    {
     "name": "stdout",
     "output_type": "stream",
     "text": [
      "<Response [500]>\n",
      "http://127.0.0.1:5000/test\n",
      "None\n",
      "{'User-Agent': 'python-requests/2.28.1', 'Accept-Encoding': 'gzip, deflate, br', 'Accept': '*/*', 'Connection': 'keep-alive'}\n",
      "<!doctype html>\n",
      "<html lang=en>\n",
      "<title>500 Internal Server Error</title>\n",
      "<h1>Internal Server Error</h1>\n",
      "<p>The server encountered an internal error and was unable to complete your request. Either the server is overloaded or there is an error in the application.</p>\n",
      "\n"
     ]
    }
   ],
   "source": [
    "\n",
    "\n",
    "##################\n",
    "# NOTES ON USING REQUESTS WITH FLASK \n",
    "#  1. - did NOT need to stringify. the following code does not work: \n",
    "# jsonStr = str(jsonDataObj)\n",
    "# instead just send json=jsonDataObj\n",
    "# 2. - DO need to  set headers to application/json.\n",
    "# include \"headers={'Content-Type': 'application/json'\"\n",
    "# res = requests.get(API_URL, json=jsonDataObj, headers={'Content-Type': 'application/json'})\n",
    "##################\n",
    "\n",
    "# strJsonDataObj = str(jsonDataObj)\n",
    "# print (strJsonDataObj)\n",
    "\n",
    "\n",
    "headers = {'Content-type': 'application/json', 'Accept': 'text/plain'}\n",
    "\n",
    "# response = requests.post(URL, json=jsonDataObj, headers=headers)\n",
    "\n",
    "response = requests.get(URL)\n",
    "\n",
    "# why does the above request return a 500 error? \n",
    "\n",
    "# how do i print the full request that is being sent to the API?\n",
    "print (response)\n",
    "print(response.request.url)\n",
    "print(response.request.body)\n",
    "print(response.request.headers)\n",
    "print (response.text)\n"
   ]
  },
  {
   "cell_type": "code",
   "execution_count": 11,
   "metadata": {},
   "outputs": [
    {
     "name": "stdout",
     "output_type": "stream",
     "text": [
      "<Response [200]>\n",
      "http://127.0.0.1:5000/article\n",
      "b'{\"title\": \"test title\", \"url\": \"test url\", \"content\": \"test content\"}'\n",
      "{'User-Agent': 'python-requests/2.28.1', 'Accept-Encoding': 'gzip, deflate, br', 'Accept': 'text/plain', 'Connection': 'keep-alive', 'Content-type': 'application/json', 'Content-Length': '69'}\n",
      "OK\n"
     ]
    }
   ],
   "source": [
    "# TEST WITH A REQUEST \n",
    "\n",
    "# response = requests.post(URL, json=jsonDataObj, headers=headers)\n",
    "\n",
    "jsonDataObj = {\n",
    "    \"title\": \"test title\",\n",
    "    \"url\": \"test url\",\n",
    "    \"content\": \"test content\"\n",
    "}\n",
    "\n",
    "headers = {'Content-type': 'application/json', 'Accept': 'text/plain'}\n",
    "\n",
    "#############\n",
    "\n",
    "URL = \"http://127.0.0.1:5000/article\"\n",
    "\n",
    "response = requests.post(URL, json=jsonDataObj, headers=headers)\n",
    "\n",
    "#############\n",
    "\n",
    "# why does the above request return a 500 error? \n",
    "\n",
    "# how do i print the full request that is being sent to the API?\n",
    "print (response)\n",
    "print(response.request.url)\n",
    "print(response.request.body)\n",
    "print(response.request.headers)\n",
    "print (response.text)"
   ]
  },
  {
   "cell_type": "code",
   "execution_count": 19,
   "metadata": {},
   "outputs": [
    {
     "data": {
      "text/plain": [
       "<Response [405]>"
      ]
     },
     "execution_count": 19,
     "metadata": {},
     "output_type": "execute_result"
    }
   ],
   "source": [
    "\n",
    "URL = \"http://127.0.0.1:5000/getCSV\"\n",
    "\n",
    "response = requests.get(URL)\n",
    "response"
   ]
  },
  {
   "cell_type": "code",
   "execution_count": 13,
   "metadata": {},
   "outputs": [
    {
     "data": {
      "text/plain": [
       "<Response [405]>"
      ]
     },
     "execution_count": 13,
     "metadata": {},
     "output_type": "execute_result"
    }
   ],
   "source": []
  },
  {
   "cell_type": "code",
   "execution_count": null,
   "metadata": {},
   "outputs": [],
   "source": []
  }
 ],
 "metadata": {
  "kernelspec": {
   "display_name": "ml",
   "language": "python",
   "name": "python3"
  },
  "language_info": {
   "codemirror_mode": {
    "name": "ipython",
    "version": 3
   },
   "file_extension": ".py",
   "mimetype": "text/x-python",
   "name": "python",
   "nbconvert_exporter": "python",
   "pygments_lexer": "ipython3",
   "version": "3.10.4"
  },
  "orig_nbformat": 4,
  "vscode": {
   "interpreter": {
    "hash": "d905c6a59c21f0f46be93fdc832728644d115a3fdfd57971d06d899b53e0576e"
   }
  }
 },
 "nbformat": 4,
 "nbformat_minor": 2
}
